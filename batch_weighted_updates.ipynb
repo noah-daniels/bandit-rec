{
 "cells": [
  {
   "cell_type": "code",
   "execution_count": 14,
   "id": "72a1d288-17bf-4c87-b5a1-d502698dd61c",
   "metadata": {
    "tags": []
   },
   "outputs": [],
   "source": [
    "import numpy as np\n",
    "import math"
   ]
  },
  {
   "cell_type": "code",
   "execution_count": 127,
   "id": "1fa99a17-42ed-475b-9d28-cbcaf79576d4",
   "metadata": {
    "tags": []
   },
   "outputs": [
    {
     "data": {
      "text/plain": [
       "(0.131024142809, 0.13026431198, 0.020000000000000004, 6.513215598999999)"
      ]
     },
     "execution_count": 127,
     "metadata": {},
     "output_type": "execute_result"
    }
   ],
   "source": [
    "def update_q(q_old, rewards, lr):\n",
    "    for r in rewards:\n",
    "        q_old += lr*(r - q_old)\n",
    "    return q_old\n",
    "\n",
    "def update_q2(q_old, n, c, lr):\n",
    "    t = 1-lr\n",
    "    tt = t**n\n",
    "    f = c/n\n",
    "    return tt*(q_old - f) + f\n",
    "\n",
    "def update_q3(q_old, n, c, lr):\n",
    "    return q_old + lr*(c/n - q_old)\n",
    "\n",
    "rewards = np.random.binomial(1, 0.3, 10)\n",
    "avgq = 0\n",
    "for i in range(100):\n",
    "    np.random.shuffle(rewards)\n",
    "    avgq += update_q(0, rewards, 0.1)\n",
    "\n",
    "n, c = len(rewards), sum(rewards)\n",
    "u2 = update_q2(0, n, c, 0.1)\n",
    "u3 = update_q3(0, n, c, 0.1)\n",
    "avgq/100, u2, u3, u2/u3"
   ]
  },
  {
   "cell_type": "code",
   "execution_count": 128,
   "id": "300ed47f-f78d-4e0c-a5c0-b8f9e8bc988c",
   "metadata": {
    "tags": []
   },
   "outputs": [
    {
     "data": {
      "text/plain": [
       "0.6513215599"
      ]
     },
     "execution_count": 128,
     "metadata": {},
     "output_type": "execute_result"
    }
   ],
   "source": [
    "(1-(1-0.1)**10)"
   ]
  },
  {
   "cell_type": "code",
   "execution_count": 87,
   "id": "a5051f8f-09d8-49e7-a036-a57876caace0",
   "metadata": {
    "tags": []
   },
   "outputs": [
    {
     "data": {
      "text/plain": [
       "(0.33661, 0.23292279)"
      ]
     },
     "execution_count": 87,
     "metadata": {},
     "output_type": "execute_result"
    }
   ],
   "source": [
    "rewards =[ 0, 0, 0, 1, 0, 1, 1, 1]\n",
    "update_q(0, rewards, 0.1), update_q(0, reversed(rewards), 0.1)"
   ]
  }
 ],
 "metadata": {
  "kernelspec": {
   "display_name": "Python 3 (ipykernel)",
   "language": "python",
   "name": "python3"
  },
  "language_info": {
   "codemirror_mode": {
    "name": "ipython",
    "version": 3
   },
   "file_extension": ".py",
   "mimetype": "text/x-python",
   "name": "python",
   "nbconvert_exporter": "python",
   "pygments_lexer": "ipython3",
   "version": "3.11.2"
  }
 },
 "nbformat": 4,
 "nbformat_minor": 5
}
