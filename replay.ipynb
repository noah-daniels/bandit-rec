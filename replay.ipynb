{
 "cells": [
  {
   "cell_type": "code",
   "execution_count": 1,
   "id": "cf1b2cd5-2158-47ef-8ae2-ade24c984f33",
   "metadata": {
    "tags": []
   },
   "outputs": [],
   "source": [
    "%load_ext autoreload\n",
    "%autoreload 2"
   ]
  },
  {
   "cell_type": "code",
   "execution_count": null,
   "id": "492e6ce7-5ccb-45b9-8822-f86019daa17f",
   "metadata": {},
   "outputs": [],
   "source": [
    "my_argmax_dict()"
   ]
  },
  {
   "cell_type": "code",
   "execution_count": 32,
   "id": "354b231d-31e2-4cb2-a524-cb5d014e6445",
   "metadata": {
    "tags": []
   },
   "outputs": [],
   "source": [
    "from BanditRec.eval import replay\n",
    "from BanditRec.agents import RandomAgent, EpsGreedyAgent, ThompsonAgent, FroomleAgent, DynamicFroomleAgent, UCBAgent, GreedyFroomleAgent\n",
    "from BanditRec.utils import my_argmax_dict\n",
    "\n",
    "import numpy as np\n",
    "import pandas as pd"
   ]
  },
  {
   "cell_type": "code",
   "execution_count": 3,
   "id": "1a81fb8b-4857-480c-89a2-f7efe2c04994",
   "metadata": {
    "tags": []
   },
   "outputs": [],
   "source": [
    "df = pd.read_csv('../data/open_bandit_dataset/random/all/all.csv')[['timestamp', 'item_id', 'click']]"
   ]
  },
  {
   "cell_type": "code",
   "execution_count": 218,
   "id": "319c44b1-9efc-4237-9271-c30dc30cefe2",
   "metadata": {
    "tags": []
   },
   "outputs": [],
   "source": [
    "df2 = pd.read_csv('../data/open_bandit_dataset/bts/all/all.csv')[['timestamp', 'item_id', 'click', 'propensity_score']]"
   ]
  },
  {
   "cell_type": "code",
   "execution_count": 36,
   "id": "8e957fb3-9b0c-48cb-a31f-d8fe5f03b896",
   "metadata": {
    "tags": []
   },
   "outputs": [
    {
     "data": {
      "text/plain": [
       "0.0034693344451502445"
      ]
     },
     "execution_count": 36,
     "metadata": {},
     "output_type": "execute_result"
    }
   ],
   "source": [
    "df['click'].mean()"
   ]
  },
  {
   "cell_type": "code",
   "execution_count": 15,
   "id": "b456004a-a61a-489e-9c2b-c9f0c0aed175",
   "metadata": {
    "jupyter": {
     "source_hidden": true
    },
    "tags": []
   },
   "outputs": [],
   "source": [
    "item_priors = {0: (47.0, 12198.0),\n",
    "1: (8.0, 3566.0),\n",
    "2: (62.0, 15993.0),\n",
    "3: (142.0, 35522.0),\n",
    "4: (3.0, 2367.0),\n",
    "5: (14.0, 4609.0),\n",
    "6: (7.0, 3171.0),\n",
    "7: (857.0, 181745.0),\n",
    "8: (12.0, 4372.0),\n",
    "9: (15.0, 4951.0),\n",
    "10: (6.0, 3100.0),\n",
    "11: (100.0, 24665.0),\n",
    "12: (48.0, 13210.0),\n",
    "13: (23.0, 7061.0),\n",
    "14: (71.0, 18061.0),\n",
    "15: (61.0, 17449.0),\n",
    "16: (13.0, 5644.0),\n",
    "17: (16.0, 6787.0),\n",
    "18: (518.0, 111326.0),\n",
    "19: (30.0, 8776.0),\n",
    "20: (7.0, 3334.0),\n",
    "21: (4.0, 2271.0),\n",
    "22: (23.0, 7389.0),\n",
    "23: (8.0, 2659.0),\n",
    "24: (10.0, 3665.0),\n",
    "25: (11.0, 4724.0),\n",
    "26: (11.0, 3561.0),\n",
    "27: (18.0, 5085.0),\n",
    "28: (121.0, 27407.0),\n",
    "29: (11.0, 4601.0),\n",
    "30: (11.0, 4756.0),\n",
    "31: (10.0, 4120.0),\n",
    "32: (14.0, 4736.0),\n",
    "33: (9.0, 3788.0),\n",
    "34: (204.0, 45292.0),\n",
    "35: (58.0, 14719.0),\n",
    "36: (3.0, 2189.0),\n",
    "37: (19.0, 5589.0),\n",
    "38: (42.0, 11995.0),\n",
    "39: (1013.0, 222255.0),\n",
    "40: (2.0, 2308.0),\n",
    "41: (328.0, 70034.0),\n",
    "42: (15.0, 4801.0),\n",
    "43: (31.0, 8274.0),\n",
    "44: (14.0, 5421.0),\n",
    "45: (138.0, 31912.0),\n",
    "46: (45.0, 12213.0),\n",
    "47: (55.0, 13576.0),\n",
    "48: (23.0, 6230.0),\n",
    "49: (38.0, 10382.0),\n",
    "50: (10.0, 4141.0),\n",
    "51: (401.0, 85731.0),\n",
    "52: (52.0, 12811.0),\n",
    "53: (6.0, 2707.0),\n",
    "54: (3.0, 2250.0),\n",
    "55: (6.0, 2668.0),\n",
    "56: (5.0, 2886.0),\n",
    "57: (32.0, 9581.0),\n",
    "58: (35.0, 9465.0),\n",
    "59: (133.0, 28336.0),\n",
    "60: (52.0, 12062.0),\n",
    "61: (820.0, 162793.0),\n",
    "62: (43.0, 12107.0),\n",
    "63: (195.0, 41240.0),\n",
    "64: (8.0, 3162.0),\n",
    "65: (42.0, 11604.0),\n",
    "66: (40.0, 10818.0),\n",
    "67: (4.0, 2923.0),\n",
    "68: (32.0, 8897.0),\n",
    "69: (30.0, 8654.0),\n",
    "70: (9.0, 4000.0),\n",
    "71: (22.0, 6580.0),\n",
    "72: (6.0, 3174.0),\n",
    "73: (23.0, 6766.0),\n",
    "74: (5.0, 2602.0),\n",
    "75: (54.0, 14506.0),\n",
    "76: (8.0, 3968.0),\n",
    "77: (22.0, 7523.0),\n",
    "78: (65.0, 16532.0),\n",
    "79: (246.0, 51964.0)}"
   ]
  },
  {
   "cell_type": "code",
   "execution_count": 25,
   "id": "91658080-2840-421e-817f-548fd6cdc856",
   "metadata": {
    "tags": []
   },
   "outputs": [],
   "source": [
    "log = list(zip(df['item_id'], df['click']))\n",
    "K, k = 80, 3"
   ]
  },
  {
   "cell_type": "code",
   "execution_count": 33,
   "id": "d946dd8b-8edc-482e-b9a1-840533950849",
   "metadata": {
    "tags": []
   },
   "outputs": [
    {
     "data": {
      "application/vnd.jupyter.widget-view+json": {
       "model_id": "0ee9df0f25f14a66942c17db84cc04ea",
       "version_major": 2,
       "version_minor": 0
      },
      "text/plain": [
       "  0%|          | 0/10 [00:00<?, ?it/s]"
      ]
     },
     "metadata": {},
     "output_type": "display_data"
    },
    {
     "data": {
      "text/plain": [
       "(732685.7, 15129.4, 2198058.3, 0.006883074939368078)"
      ]
     },
     "execution_count": 33,
     "metadata": {},
     "output_type": "execute_result"
    }
   ],
   "source": [
    "replay(log, ThompsonAgent(item_priors=item_priors), K, k, N=10, use_bootstrap=True)"
   ]
  },
  {
   "cell_type": "code",
   "execution_count": 34,
   "id": "6d8e703b-4311-4654-96c0-f3514e4658f7",
   "metadata": {
    "tags": []
   },
   "outputs": [
    {
     "data": {
      "application/vnd.jupyter.widget-view+json": {
       "model_id": "943e0ac63973435c9125d8b5b1523d76",
       "version_major": 2,
       "version_minor": 0
      },
      "text/plain": [
       "  0%|          | 0/10 [00:00<?, ?it/s]"
      ]
     },
     "metadata": {},
     "output_type": "display_data"
    },
    {
     "data": {
      "text/plain": [
       "(740482.5, 15176.8, 2221448.7, 0.006831938095171857)"
      ]
     },
     "execution_count": 34,
     "metadata": {},
     "output_type": "execute_result"
    }
   ],
   "source": [
    "replay(log, ThompsonAgent(), K, k, N=10, use_bootstrap=True)"
   ]
  },
  {
   "cell_type": "code",
   "execution_count": 35,
   "id": "3603a74d-ea63-4ab6-96e0-f54e8678e7bd",
   "metadata": {
    "tags": []
   },
   "outputs": [
    {
     "data": {
      "application/vnd.jupyter.widget-view+json": {
       "model_id": "7599f99de2704afea8afabf34de26e8a",
       "version_major": 2,
       "version_minor": 0
      },
      "text/plain": [
       "  0%|          | 0/10 [00:00<?, ?it/s]"
      ]
     },
     "metadata": {},
     "output_type": "display_data"
    },
    {
     "data": {
      "text/plain": [
       "(749121.7, 7821.4, 2247366.5, 0.0034802512184817207)"
      ]
     },
     "execution_count": 35,
     "metadata": {},
     "output_type": "execute_result"
    }
   ],
   "source": [
    "replay(log, RandomAgent(), K, k, N=10, use_bootstrap=True)"
   ]
  }
 ],
 "metadata": {
  "kernelspec": {
   "display_name": "Python 3 (ipykernel)",
   "language": "python",
   "name": "python3"
  },
  "language_info": {
   "codemirror_mode": {
    "name": "ipython",
    "version": 3
   },
   "file_extension": ".py",
   "mimetype": "text/x-python",
   "name": "python",
   "nbconvert_exporter": "python",
   "pygments_lexer": "ipython3",
   "version": "3.11.2"
  }
 },
 "nbformat": 4,
 "nbformat_minor": 5
}
